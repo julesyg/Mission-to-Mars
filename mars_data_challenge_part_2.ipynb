{
 "cells": [
  {
   "cell_type": "code",
   "execution_count": 49,
   "id": "0b877d4a",
   "metadata": {},
   "outputs": [],
   "source": [
    "from splinter import Browser\n",
    "from bs4 import BeautifulSoup as soup\n",
    "from webdriver_manager.chrome import ChromeDriverManager\n",
    "\n",
    "import matplotlib.pyplot as plt\n",
    "import numpy as np\n",
    "import pandas as pd\n",
    "\n",
    "executable_path = {'executable_path': ChromeDriverManager().install()}\n",
    "browser = Browser('chrome', **executable_path, headless=False)"
   ]
  },
  {
   "cell_type": "code",
   "execution_count": 50,
   "id": "725cacf6",
   "metadata": {},
   "outputs": [],
   "source": [
    "url = 'https://data-class-mars-challenge.s3.amazonaws.com/Mars/index.html'\n",
    "browser.visit(url)\n",
    "html = browser.html\n",
    "soup = soup(html, 'html.parser')"
   ]
  },
  {
   "cell_type": "code",
   "execution_count": 51,
   "id": "16bb8faf",
   "metadata": {},
   "outputs": [],
   "source": [
    "rows = soup.find_all(\"tr\", class_=\"data-row\")"
   ]
  },
  {
   "cell_type": "code",
   "execution_count": 52,
   "id": "d17124fc",
   "metadata": {},
   "outputs": [],
   "source": [
    "row_list = []\n",
    "for row in rows:\n",
    "    data = row.find_all(\"td\")\n",
    "    row=[col.text for col in data]\n",
    "    row_list.append(row)"
   ]
  },
  {
   "cell_type": "code",
   "execution_count": 53,
   "id": "a3beee95",
   "metadata": {},
   "outputs": [
    {
     "data": {
      "text/html": [
       "<div>\n",
       "<style scoped>\n",
       "    .dataframe tbody tr th:only-of-type {\n",
       "        vertical-align: middle;\n",
       "    }\n",
       "\n",
       "    .dataframe tbody tr th {\n",
       "        vertical-align: top;\n",
       "    }\n",
       "\n",
       "    .dataframe thead th {\n",
       "        text-align: right;\n",
       "    }\n",
       "</style>\n",
       "<table border=\"1\" class=\"dataframe\">\n",
       "  <thead>\n",
       "    <tr style=\"text-align: right;\">\n",
       "      <th></th>\n",
       "      <th>id</th>\n",
       "      <th>terrestrial_date</th>\n",
       "      <th>sol</th>\n",
       "      <th>ls</th>\n",
       "      <th>month</th>\n",
       "      <th>min_temp</th>\n",
       "      <th>pressure</th>\n",
       "    </tr>\n",
       "  </thead>\n",
       "  <tbody>\n",
       "    <tr>\n",
       "      <th>0</th>\n",
       "      <td>2</td>\n",
       "      <td>2012-08-16</td>\n",
       "      <td>10</td>\n",
       "      <td>155</td>\n",
       "      <td>6</td>\n",
       "      <td>-75.0</td>\n",
       "      <td>739.0</td>\n",
       "    </tr>\n",
       "    <tr>\n",
       "      <th>1</th>\n",
       "      <td>13</td>\n",
       "      <td>2012-08-17</td>\n",
       "      <td>11</td>\n",
       "      <td>156</td>\n",
       "      <td>6</td>\n",
       "      <td>-76.0</td>\n",
       "      <td>740.0</td>\n",
       "    </tr>\n",
       "    <tr>\n",
       "      <th>2</th>\n",
       "      <td>24</td>\n",
       "      <td>2012-08-18</td>\n",
       "      <td>12</td>\n",
       "      <td>156</td>\n",
       "      <td>6</td>\n",
       "      <td>-76.0</td>\n",
       "      <td>741.0</td>\n",
       "    </tr>\n",
       "    <tr>\n",
       "      <th>3</th>\n",
       "      <td>35</td>\n",
       "      <td>2012-08-19</td>\n",
       "      <td>13</td>\n",
       "      <td>157</td>\n",
       "      <td>6</td>\n",
       "      <td>-74.0</td>\n",
       "      <td>732.0</td>\n",
       "    </tr>\n",
       "    <tr>\n",
       "      <th>4</th>\n",
       "      <td>46</td>\n",
       "      <td>2012-08-20</td>\n",
       "      <td>14</td>\n",
       "      <td>157</td>\n",
       "      <td>6</td>\n",
       "      <td>-74.0</td>\n",
       "      <td>740.0</td>\n",
       "    </tr>\n",
       "  </tbody>\n",
       "</table>\n",
       "</div>"
      ],
      "text/plain": [
       "   id terrestrial_date sol   ls month min_temp pressure\n",
       "0   2       2012-08-16  10  155     6    -75.0    739.0\n",
       "1  13       2012-08-17  11  156     6    -76.0    740.0\n",
       "2  24       2012-08-18  12  156     6    -76.0    741.0\n",
       "3  35       2012-08-19  13  157     6    -74.0    732.0\n",
       "4  46       2012-08-20  14  157     6    -74.0    740.0"
      ]
     },
     "execution_count": 53,
     "metadata": {},
     "output_type": "execute_result"
    }
   ],
   "source": [
    "df = pd.DataFrame(row_list, columns = [\"id\", \"terrestrial_date\", \"sol\", \"ls\", \"month\", \"min_temp\", \"pressure\"])\n",
    "df.head()"
   ]
  },
  {
   "cell_type": "code",
   "execution_count": 54,
   "id": "5afb0c19",
   "metadata": {},
   "outputs": [
    {
     "data": {
      "text/plain": [
       "id                  object\n",
       "terrestrial_date    object\n",
       "sol                 object\n",
       "ls                  object\n",
       "month               object\n",
       "min_temp            object\n",
       "pressure            object\n",
       "dtype: object"
      ]
     },
     "execution_count": 54,
     "metadata": {},
     "output_type": "execute_result"
    }
   ],
   "source": [
    "df.dtypes"
   ]
  },
  {
   "cell_type": "code",
   "execution_count": 55,
   "id": "759f98fd",
   "metadata": {},
   "outputs": [],
   "source": [
    "df['terrestrial_date'] = pd.to_datetime(df['terrestrial_date'])"
   ]
  },
  {
   "cell_type": "code",
   "execution_count": 56,
   "id": "3842d345",
   "metadata": {},
   "outputs": [
    {
     "name": "stdout",
     "output_type": "stream",
     "text": [
      "id                           int64\n",
      "terrestrial_date    datetime64[ns]\n",
      "sol                          int64\n",
      "ls                           int64\n",
      "month                        int64\n",
      "min_temp                   float64\n",
      "pressure                   float64\n",
      "dtype: object\n"
     ]
    }
   ],
   "source": [
    "convert_dtypes = {'id': int,\n",
    "                 'sol': int,\n",
    "                 'ls': int,\n",
    "                 'month':int,\n",
    "                 'min_temp': float,\n",
    "                 'pressure': float}\n",
    "df = df.astype(convert_dtypes)\n",
    "print(df.dtypes)"
   ]
  },
  {
   "cell_type": "code",
   "execution_count": 58,
   "id": "9332c722",
   "metadata": {},
   "outputs": [
    {
     "data": {
      "text/plain": [
       "<bound method Series.unique of 0       6\n",
       "1       6\n",
       "2       6\n",
       "3       6\n",
       "4       6\n",
       "       ..\n",
       "1862    5\n",
       "1863    5\n",
       "1864    5\n",
       "1865    5\n",
       "1866    5\n",
       "Name: month, Length: 1867, dtype: int64>"
      ]
     },
     "execution_count": 58,
     "metadata": {},
     "output_type": "execute_result"
    }
   ],
   "source": [
    "# How many months exist on Mars?\n",
    "df.month.unique"
   ]
  },
  {
   "cell_type": "code",
   "execution_count": 59,
   "id": "c23f7607",
   "metadata": {},
   "outputs": [
    {
     "data": {
      "text/plain": [
       "<bound method Series.unique of 0      2012-08-16\n",
       "1      2012-08-17\n",
       "2      2012-08-18\n",
       "3      2012-08-19\n",
       "4      2012-08-20\n",
       "          ...    \n",
       "1862   2018-02-23\n",
       "1863   2018-02-24\n",
       "1864   2018-02-25\n",
       "1865   2018-02-26\n",
       "1866   2018-02-27\n",
       "Name: terrestrial_date, Length: 1867, dtype: datetime64[ns]>"
      ]
     },
     "execution_count": 59,
     "metadata": {},
     "output_type": "execute_result"
    }
   ],
   "source": [
    "# How many Martian (and not Earth) days worth of data exist in the scraped dataset?\n",
    "df.terrestrial_date.unique"
   ]
  },
  {
   "cell_type": "code",
   "execution_count": 60,
   "id": "10791aff",
   "metadata": {},
   "outputs": [
    {
     "data": {
      "text/plain": [
       "-76.12104981253347"
      ]
     },
     "execution_count": 60,
     "metadata": {},
     "output_type": "execute_result"
    }
   ],
   "source": [
    "# What are the coldest and the warmest months on Mars (at the location of Curiosity)? Get the answer by averaging the minimum daily temperature of all the months. \n",
    "# Plot the results as a bar chart\n",
    "df.min_temp.mean()"
   ]
  },
  {
   "cell_type": "code",
   "execution_count": 61,
   "id": "e1d121ef",
   "metadata": {},
   "outputs": [
    {
     "data": {
      "text/plain": [
       "-62.0"
      ]
     },
     "execution_count": 61,
     "metadata": {},
     "output_type": "execute_result"
    }
   ],
   "source": [
    "df.min_temp.max()"
   ]
  },
  {
   "cell_type": "code",
   "execution_count": 62,
   "id": "e4053eea",
   "metadata": {},
   "outputs": [
    {
     "data": {
      "text/plain": [
       "-90.0"
      ]
     },
     "execution_count": 62,
     "metadata": {},
     "output_type": "execute_result"
    }
   ],
   "source": [
    "df.min_temp.min()"
   ]
  },
  {
   "cell_type": "code",
   "execution_count": 66,
   "id": "850f82d5",
   "metadata": {},
   "outputs": [
    {
     "data": {
      "text/plain": [
       "841.0664167113016"
      ]
     },
     "execution_count": 66,
     "metadata": {},
     "output_type": "execute_result"
    }
   ],
   "source": [
    "# Which months have the lowest and the highest atmospheric pressure on Mars? Get the answer by averaging the daily atmospheric pressure of all the months. \n",
    "# Plot the results as a bar chart\n",
    "df.pressure.mean()"
   ]
  },
  {
   "cell_type": "code",
   "execution_count": 65,
   "id": "7b0c1afd",
   "metadata": {},
   "outputs": [
    {
     "data": {
      "text/plain": [
       "925.0"
      ]
     },
     "execution_count": 65,
     "metadata": {},
     "output_type": "execute_result"
    }
   ],
   "source": [
    "df.pressure.max()"
   ]
  },
  {
   "cell_type": "code",
   "execution_count": 64,
   "id": "e905f157",
   "metadata": {},
   "outputs": [
    {
     "data": {
      "text/plain": [
       "727.0"
      ]
     },
     "execution_count": 64,
     "metadata": {},
     "output_type": "execute_result"
    }
   ],
   "source": [
    "df.pressure.min()"
   ]
  },
  {
   "cell_type": "code",
   "execution_count": null,
   "id": "2e81d7f3",
   "metadata": {},
   "outputs": [],
   "source": [
    "# About how many terrestrial (Earth) days exist in a Martian year? That is, in the time that Mars circles the Sun once, \n",
    "# how many days elapse on Earth? Visually estimate the result by plotting the daily minimum temperature."
   ]
  },
  {
   "cell_type": "code",
   "execution_count": 31,
   "id": "444e7e86",
   "metadata": {},
   "outputs": [
    {
     "data": {
      "text/plain": [
       "<bound method Series.unique of 0         10\n",
       "1         11\n",
       "2         12\n",
       "3         13\n",
       "4         14\n",
       "        ... \n",
       "1862    1973\n",
       "1863    1974\n",
       "1864    1975\n",
       "1865    1976\n",
       "1866    1977\n",
       "Name: sol, Length: 1867, dtype: object>"
      ]
     },
     "execution_count": 31,
     "metadata": {},
     "output_type": "execute_result"
    }
   ],
   "source": [
    "df.sol.unique"
   ]
  },
  {
   "cell_type": "code",
   "execution_count": null,
   "id": "750826fd",
   "metadata": {},
   "outputs": [],
   "source": [
    "df.to_csv('mars_temp.csv')"
   ]
  },
  {
   "cell_type": "code",
   "execution_count": null,
   "id": "691708b1",
   "metadata": {},
   "outputs": [],
   "source": []
  }
 ],
 "metadata": {
  "kernelspec": {
   "display_name": "PythonData",
   "language": "python",
   "name": "pythondata"
  },
  "language_info": {
   "codemirror_mode": {
    "name": "ipython",
    "version": 3
   },
   "file_extension": ".py",
   "mimetype": "text/x-python",
   "name": "python",
   "nbconvert_exporter": "python",
   "pygments_lexer": "ipython3",
   "version": "3.9.12"
  }
 },
 "nbformat": 4,
 "nbformat_minor": 5
}
